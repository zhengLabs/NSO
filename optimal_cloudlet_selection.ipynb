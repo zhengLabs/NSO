{
 "cells": [
  {
   "cell_type": "code",
   "execution_count": null,
   "metadata": {},
   "outputs": [],
   "source": [
    "import pandas as pd\n",
    "import numpy as np\n",
    "import math\n",
    "\n",
    "#读取文件\n",
    "mobility_raw = pd.read_csv('mobility.csv',index_col=0)\n",
    "InternetDelay_raw    = pd.read_csv('InternetDelay.csv',index_col=0)\n",
    "load_raw     = pd.read_csv('load.csv',index_col=0)\n",
    "cpuUtil_raw  = pd.read_csv('cpuUtil.csv',index_col=0)\n",
    "\n",
    "# 得到cloudlet数量\n",
    "cloudlet_numbers = mobility_raw.shape[1]\n",
    "\n",
    "# 对comDelay和load进行同向化\n",
    "# InternetDelay_txh = InternetDelay_raw.apply(lambda x: (np.max(x) - x)) \n",
    "# load_txh = load_raw.apply(lambda x: (np.max(x) - x)) \n",
    "\n",
    "# 合并成一个DataFrame\n",
    "# data = pd.concat([mobility_raw,InternetDelay_txh,load_txh,cpuUtil_raw],axis=1)\n",
    "data = pd.concat([mobility_raw,InternetDelay_raw,load_raw,cpuUtil_raw],axis=1)\n",
    "\n",
    "# 对所有数据进行归一化\n",
    "data_nor = data.apply(lambda x: (x - np.min(x)) / (np.max(x) - np.min(x)))\n",
    "# data_nor\n"
   ]
  },
  {
   "cell_type": "code",
   "execution_count": null,
   "metadata": {},
   "outputs": [],
   "source": [
    "# 云模型处理\n",
    "\n",
    "# def cloud_model(df):\n",
    "#     Ex = df.mean()\n",
    "#     En = np.sqrt(np.pi/2)  * np.mean( np.abs(df-Ex) )\n",
    "#     He = np.sqrt(np.abs(df.mean() * df.mean() - df.std() * df.std()))\n",
    "#     return pd.concat([Ex,En,He],axis=1)\n",
    "\n",
    "# df.mad()  平均绝对离差\n",
    "def cloud_model(df):\n",
    "    Ex = df.mean()\n",
    "    En = math.sqrt(math.pi / 2)  * df.mad()\n",
    "    He = np.sqrt(np.abs(df.var() - En ** 2))\n",
    "    return pd.concat([Ex,En,He],axis=1)\n",
    "data_cloudModel = cloud_model(data_nor)\n",
    "data_cloudModel.round(2)"
   ]
  },
  {
   "cell_type": "code",
   "execution_count": null,
   "metadata": {},
   "outputs": [],
   "source": [
    "# 权重计算\n",
    "ns_mobility = data_cloudModel.iloc[0:cloudlet_numbers]\n",
    "ns_mobility_En = 0\n",
    "for idx, row in ns_mobility.iterrows():\n",
    "\tns_mobility_En += (row[0]+row[2]) * abs(2*row[1] - 1)\n",
    "ns_mobility_En = 1 - ns_mobility_En / cloudlet_numbers\n",
    "\n",
    "ns_InternetDelay = data_cloudModel.iloc[cloudlet_numbers:2*cloudlet_numbers]\n",
    "ns_InternetDelay_En = 0\n",
    "for idx, row in ns_InternetDelay.iterrows():\n",
    "\tns_InternetDelay_En += (row[0]+row[2]) * abs(2*row[1] - 1)\n",
    "ns_InternetDelay_En = 1 - ns_InternetDelay_En / cloudlet_numbers\n",
    "\n",
    "ns_load = data_cloudModel.iloc[2*cloudlet_numbers:3*cloudlet_numbers]\n",
    "ns_load_En = 0\n",
    "for idx, row in ns_load.iterrows():\n",
    "\tns_load_En += (row[0]+row[2]) * abs(2*row[1] - 1)\n",
    "ns_load_En = 1 - ns_load_En / cloudlet_numbers\n",
    "\n",
    "ns_cpuUtil = data_cloudModel.iloc[3*cloudlet_numbers:4*cloudlet_numbers]\n",
    "ns_cpuUtil_En = 0\n",
    "for idx, row in ns_cpuUtil.iterrows():\n",
    "\tns_cpuUtil_En += (row[0]+row[2]) * abs(2*row[1] - 1)\n",
    "ns_cpuUtil_En = 1 - ns_cpuUtil_En / cloudlet_numbers\n",
    "\n",
    "# 中智熵\n",
    "ns_En = [ns_mobility_En,ns_InternetDelay_En,ns_load_En,ns_cpuUtil_En]\n",
    "# 属性权重\n",
    "weight = []\n",
    "for i in range(len(ns_En)):\n",
    "\tweight.append((1-ns_En[i]) / (4-sum(ns_En)))\n",
    "print('属性权重为：',weight)"
   ]
  },
  {
   "cell_type": "code",
   "execution_count": null,
   "metadata": {},
   "outputs": [],
   "source": [
    "# 中智聚合\n",
    "\n",
    "# 中智数\n",
    "truth = data_cloudModel[0]\n",
    "indeterminacy = data_cloudModel[1]\n",
    "falsity = data_cloudModel[2]\n",
    "\n",
    "# 聚合之后的中智数\n",
    "aggre_truth = []\n",
    "aggre_indeterminacy = []\n",
    "aggre_falsity = []\n",
    "\n",
    "for i in range(cloudlet_numbers):\n",
    "    tempT = 1\n",
    "    tempI = 1\n",
    "    tempF = 1\n",
    "    # 四个属性\n",
    "    for j in range(4):\n",
    "        tempT *= (1 - truth[i+10*j]) ** weight[j]\n",
    "        tempI *= indeterminacy[i+10*j] ** weight[j]\n",
    "        tempF *= falsity[i+10*j] ** weight[j]\n",
    "    aggre_truth.append((1-tempT))\n",
    "    aggre_indeterminacy.append(tempI)\n",
    "    aggre_falsity.append(tempF)\n",
    "\n",
    "# 添加索引\n",
    "# index = pd.Series(np.arange(0,cloudlet_numbers))\n",
    "# index = index.astype(str)\n",
    "# index = 'cloudlet'+index\n",
    "neutrosophic = pd.DataFrame(np.vstack((aggre_truth,aggre_indeterminacy,aggre_falsity)).T)\n",
    "neutrosophic.round(2)\n"
   ]
  },
  {
   "cell_type": "code",
   "execution_count": null,
   "metadata": {},
   "outputs": [],
   "source": [
    "truth[10]"
   ]
  },
  {
   "cell_type": "code",
   "execution_count": null,
   "metadata": {},
   "outputs": [],
   "source": [
    "# 得分函数\n",
    "score = neutrosophic[0]+1-neutrosophic[1]+1-neutrosophic[2]\n",
    "print(score.round(2))\n",
    "print('最佳cloudlet为：',score.idxmax())\n",
    "\n",
    "with open(\"optimal_cloudlet.txt\",\"w\") as f:\n",
    "        f.write(str(score.idxmin()))  #这句话自带文件关闭功能，不需要再写f.close()\n"
   ]
  }
 ],
 "metadata": {
  "interpreter": {
   "hash": "e56dfdfdfe0e219775f7d573ae90715c327d44511900fcd145cd2e6f7088a9d6"
  },
  "kernelspec": {
   "display_name": "Python 3.9.0 64-bit",
   "name": "python3"
  },
  "language_info": {
   "codemirror_mode": {
    "name": "ipython",
    "version": 3
   },
   "file_extension": ".py",
   "mimetype": "text/x-python",
   "name": "python",
   "nbconvert_exporter": "python",
   "pygments_lexer": "ipython3",
   "version": "3.9.0"
  },
  "orig_nbformat": 2
 },
 "nbformat": 4,
 "nbformat_minor": 2
}
